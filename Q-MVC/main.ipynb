{
 "cells": [
  {
   "cell_type": "code",
   "execution_count": 1,
   "metadata": {},
   "outputs": [],
   "source": [
    "import itertools\n",
    "import numpy as np\n",
    "import scipy\n",
    "import matplotlib\n",
    "import matplotlib.pyplot as plt\n",
    "from random import randint\n",
    "import random\n",
    "import scipy.linalg as lg\n",
    "import pandas as pd\n",
    "import scipy.sparse as sparse\n",
    "import scipy.sparse.linalg as lasp\n",
    "import pymp\n",
    "import networkx as nx\n",
    "\n",
    "from mvc import thermal_overlap, FromGraphToHamiltonian"
   ]
  },
  {
   "cell_type": "code",
   "execution_count": 2,
   "metadata": {},
   "outputs": [],
   "source": [
    "import sys\n",
    "\n",
    "def get_size(obj, seen=None):\n",
    "    \"\"\"Recursively finds size of objects\"\"\"\n",
    "    size = sys.getsizeof(obj)\n",
    "    if seen is None:\n",
    "        seen = set()\n",
    "    obj_id = id(obj)\n",
    "    if obj_id in seen:\n",
    "        return 0\n",
    "    # Important mark as seen *before* entering recursion to gracefully handle\n",
    "    # self-referential objects\n",
    "    seen.add(obj_id)\n",
    "    if isinstance(obj, dict):\n",
    "        size += sum([get_size(v, seen) for v in obj.values()])\n",
    "        size += sum([get_size(k, seen) for k in obj.keys()])\n",
    "    elif hasattr(obj, '__dict__'):\n",
    "        size += get_size(obj.__dict__, seen)\n",
    "    elif hasattr(obj, '__iter__') and not isinstance(obj, (str, bytes, bytearray)):\n",
    "        size += sum([get_size(i, seen) for i in obj])\n",
    "    return size"
   ]
  },
  {
   "cell_type": "code",
   "execution_count": 3,
   "metadata": {},
   "outputs": [],
   "source": [
    "# vertex cover solver\n",
    "class Vertex_Cover:\n",
    "    \n",
    "    def __init__(self, graph):\n",
    "        self.graph = graph\n",
    "\n",
    "    def validity_check(self, cover):\n",
    "        is_valid = True\n",
    "        for i in range(len(self.graph)):\n",
    "            for j in range(i+1, len(self.graph[i])):\n",
    "                if self.graph[i][j] == 1 and cover[i] != '1' and cover[j] != '1':\n",
    "                    return False\n",
    "\n",
    "        return is_valid\n",
    "\n",
    "    def vertex_cover_naive(self):\n",
    "        n = len(self.graph)\n",
    "        minimum_vertex_cover = n\n",
    "        a = list(itertools.product(*[\"01\"] * n))\n",
    "        for i in a:\n",
    "            if Vertex_Cover.validity_check(self, i):\n",
    "                counter = 0\n",
    "                for value in i:\n",
    "                    if value == '1':\n",
    "                        counter += 1\n",
    "                minimum_vertex_cover = min(counter, minimum_vertex_cover)\n",
    "\n",
    "        return minimum_vertex_cover\n",
    "\n",
    "def CalculateXc(A):\n",
    "    ins = Vertex_Cover(A)\n",
    "    \n",
    "    return Vertex_Cover.vertex_cover_naive(ins)"
   ]
  },
  {
   "cell_type": "code",
   "execution_count": 6,
   "metadata": {},
   "outputs": [
    {
     "name": "stdout",
     "output_type": "stream",
     "text": [
      "CPU times: user 47min 4s, sys: 799 ms, total: 47min 5s\n",
      "Wall time: 47min 5s\n"
     ]
    }
   ],
   "source": [
    "%%time\n",
    "# number of nodes\n",
    "N=12\n",
    "# average degree\n",
    "k=2\n",
    "p=k/(N-1)\n",
    "# inverse temperature\n",
    "# with pymp.Parallel(6) as pp:\n",
    "for beta in [3.5,4,4.5,5]:\n",
    "        overlap=[]\n",
    "        xc=[]\n",
    "#     for beta in pp.range(5,10):\n",
    "        for i in range(10000):\n",
    "            graph=nx.gnp_random_graph(N, p=p)\n",
    "            over=thermal_overlap(graph, beta)\n",
    "            xc.append(over[0])\n",
    "            overlap.append(over[1])\n",
    "        bits=np.array([N]*10000)\n",
    "        bet=np.array([beta]*10000)\n",
    "        df=pd.DataFrame(data={'bits':bits, 'beta':bet, \n",
    "                              'xc': np.array(xc),\n",
    "                              'overlap': np.array(overlap)})\n",
    "        df=df[['bits','beta','xc','overlap']]\n",
    "        \n",
    "        with open('MVC_cooling.csv', 'a') as f:\n",
    "            df.to_csv(f, header=False)"
   ]
  },
  {
   "cell_type": "markdown",
   "metadata": {},
   "source": [
    "### Plot"
   ]
  },
  {
   "cell_type": "code",
   "execution_count": 7,
   "metadata": {},
   "outputs": [],
   "source": [
    "import matplotlib.pyplot as plt\n",
    "import seaborn as sns\n",
    "%matplotlib inline"
   ]
  },
  {
   "cell_type": "code",
   "execution_count": 12,
   "metadata": {},
   "outputs": [],
   "source": [
    "data=pd.read_csv('MVC_cooling_saeed.csv', names = [\"iteration\", \"n_bits\", \"beta\", \"xc\",\"overlap\"])\n",
    "data['density']=data.apply(lambda x: x.xc/x.n_bits, axis=1)\n",
    "df=data.groupby(['n_bits','beta','density'])['overlap'].mean().reset_index()\n",
    "df['std']=data.groupby(['n_bits','beta','density'])['overlap'].std().reset_index()['overlap']\n",
    "df=df[df['n_bits']==20]"
   ]
  },
  {
   "cell_type": "code",
   "execution_count": 15,
   "metadata": {},
   "outputs": [
    {
     "data": {
      "image/png": "[encoded data removed]",
      "text/plain": [
       "<matplotlib.figure.Figure at 0x7fe36e080b70>"
      ]
     },
     "metadata": {},
     "output_type": "display_data"
    }
   ],
   "source": [
    "plt.figure(figsize=(10,7))\n",
    "ax = plt.subplot(111)\n",
    "for n in [3,3.5,4,4.5,5]:\n",
    "    plt.plot(df[df['beta']==n]['density'],df[df['beta']==n]['overlap'], label=r'$\\beta$=%.1f'%(n,))\n",
    "    plt.fill_between(df[df['beta']==n]['density'], df[df['beta']==n]['overlap']-df[df['beta']==n]['std'], \n",
    "                    df[df['beta']==n]['overlap']+df[df['beta']==n]['std'])\n",
    "\n",
    "leg = plt.legend(bbox_to_anchor=(1, 1), ncol=1, shadow=True, fancybox=True)\n",
    "\n",
    "# leg.get_frame().set_alpha(0.5)\n",
    "plt.title('Overlap between thermal states and ground states 12 bits')\n",
    "plt.xlabel('x_c')\n",
    "ax.axvline(0.416, color='k', linestyle='--')\n",
    "# ax.axhline(0.5, color='k', linestyle='--')\n",
    "# ax.set_xticks(np.delete(np.arange(0,1,0.1),2))\n",
    "ax.set_xlim([0.2,0.8])\n",
    "ax.set_xticks(list(ax.get_xticks()))\n",
    "plt.savefig('MVC_12.pdf')\n",
    "\n",
    "plt.show()"
   ]
  },
  {
   "cell_type": "code",
   "execution_count": 14,
   "metadata": {
    "scrolled": false
   },
   "outputs": [
    {
     "data": {
      "image/png": "[encoded data removed]",
      "text/plain": [
       "<matplotlib.figure.Figure at 0x7fe36e4a0ef0>"
      ]
     },
     "metadata": {},
     "output_type": "display_data"
    }
   ],
   "source": [
    "plt.figure(figsize=(10,7))\n",
    "ax = plt.subplot(111)\n",
    "for n in [3,3.5,4,4.5,5]:\n",
    "# for n in range(1,9):\n",
    "    plt.plot(df[df['beta']==n]['density'],df[df['beta']==n]['overlap'], label=r'$\\beta$=%.1f'%(n,))\n",
    "    \n",
    "\n",
    "leg = plt.legend(bbox_to_anchor=(1, 1), ncol=1, shadow=True, fancybox=True)\n",
    "\n",
    "# leg.get_frame().set_alpha(0.5)\n",
    "# plt.title('Overlap between thermal states and ground states 12 bits')\n",
    "plt.xlabel('x_c')\n",
    "ax.axvline(0.416, color='k', linestyle='--')\n",
    "# ax.axhline(0.5, color='k', linestyle='--')\n",
    "# ax.set_xticks(np.delete(np.arange(0,1,0.1),2))\n",
    "ax.set_xlim([0.0,0.8])\n",
    "ax.set_xticks(list(ax.get_xticks()))\n",
    "plt.savefig('MVC_12.pdf', transparent=True)\n",
    "\n",
    "plt.show()"
   ]
  },
  {
   "cell_type": "code",
   "execution_count": null,
   "metadata": {},
   "outputs": [],
   "source": [
    "for_hist=data[data['beta']==3]"
   ]
  },
  {
   "cell_type": "code",
   "execution_count": null,
   "metadata": {},
   "outputs": [],
   "source": [
    "sns.distplot(for_hist['density'],hist=False )"
   ]
  },
  {
   "cell_type": "code",
   "execution_count": null,
   "metadata": {},
   "outputs": [],
   "source": [
    "for_hist"
   ]
  },
  {
   "cell_type": "code",
   "execution_count": null,
   "metadata": {},
   "outputs": [],
   "source": [
    "import itertools\n",
    "import numpy as np\n",
    "import scipy\n",
    "import matplotlib\n",
    "import matplotlib.pyplot as plt\n",
    "from random import randint\n",
    "import random\n",
    "import scipy.linalg as lg\n",
    "import pandas as pd\n",
    "import scipy.sparse as sparse\n",
    "import scipy.sparse.linalg as lasp\n",
    "import pymp\n",
    "import networkx as nx\n",
    "\n",
    "from mvc import thermal_overlap, FromGraphToHamiltonian, ground_state\n",
    "\n",
    "\n",
    "# %%time\n",
    "# number of nodes\n",
    "N=20\n",
    "# average degree\n",
    "k=2\n",
    "p=k/(N-1)\n",
    "# inverse temperature\n",
    "# with pymp.Parallel(6) as pp:\n",
    "for beta in [3,3.5,4,4.5,5]:\n",
    "    overlap=[]\n",
    "    xc=[]\n",
    "    for i in range(10000):\n",
    "        graph=nx.gnp_random_graph(N, p=p)\n",
    "        xc.append(ground_state(graph)[1])\n",
    "        overlap.append(thermal_overlap(graph,beta))\n",
    "    bits=np.array([N]*10000)\n",
    "    bet=np.array([beta]*10000)\n",
    "    df=pd.DataFrame(data={'bits':bits, 'beta':bet,'xc': np.array(xc),'overlap': np.array(overlap)})\n",
    "    df=df[['bits','beta','xc','overlap']]\n",
    "        \n",
    "    with open('MVC_cooling.csv', 'a') as f:\n",
    "        df.to_csv(f, header=False)\n"
   ]
  }
 ],
 "metadata": {
  "kernelspec": {
   "display_name": "Python 3",
   "language": "python",
   "name": "python3"
  },
  "language_info": {
   "codemirror_mode": {
    "name": "ipython",
    "version": 3
   },
   "file_extension": ".py",
   "mimetype": "text/x-python",
   "name": "python",
   "nbconvert_exporter": "python",
   "pygments_lexer": "ipython3",
   "version": "3.6.4"
  }
 },
 "nbformat": 4,
 "nbformat_minor": 2
}
