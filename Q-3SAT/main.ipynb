{
 "cells": [
  {
   "cell_type": "markdown",
   "metadata": {},
   "source": [
    "# Thermal states for 3-SAT"
   ]
  },
  {
   "cell_type": "code",
   "execution_count": 1,
   "metadata": {},
   "outputs": [],
   "source": [
    "import numpy as np\n",
    "# import qit\n",
    "import matplotlib\n",
    "import matplotlib.pyplot as plt\n",
    "from random import randint\n",
    "# import pycosat\n",
    "import random\n",
    "import scipy.linalg as la\n",
    "import pandas as pd\n",
    "import scipy.sparse as sparse\n",
    "import scipy.sparse.linalg as lasp\n",
    "from numba import jit\n",
    "# for parallel computations on CPU\n",
    "import pymp\n",
    "import qit\n",
    "import scipy\n",
    "\n",
    "from sat import *\n",
    "from qaoa import *\n",
    "from numpy import array"
   ]
  },
  {
   "cell_type": "code",
   "execution_count": null,
   "metadata": {},
   "outputs": [],
   "source": [
    "%%time\n",
    "N=20\n",
    "beta=0.20\n",
    "with pymp.Parallel(6) as pp:\n",
    "    for m in pp.range(1, 20*N):\n",
    "        clauses=[]\n",
    "        overlap=[]\n",
    "        for i in range(500):\n",
    "            cnf=cnf_random_generator(N,m)\n",
    "            overlap.append(thermal_overlap(cnf,N,beta))\n",
    "            clauses.append(m)\n",
    "        bits=[N]*500\n",
    "        bet=[beta]*500\n",
    "        df=pd.DataFrame(data={'bits':np.array(bits).ravel(), \n",
    "                            'beta':np.array(bet).ravel(), \n",
    "                            'clauses': np.array(clauses).ravel(), \n",
    "                            'overlap': np.array(overlap).ravel()})\n",
    "        df=df[['bits','beta','clauses','overlap']]\n",
    "        with open('3_SAT_cooling_20.csv', 'a') as f:\n",
    "            df.to_csv(f, header=False)"
   ]
  },
  {
   "cell_type": "markdown",
   "metadata": {},
   "source": [
    "# QAOA"
   ]
  },
  {
   "cell_type": "code",
   "execution_count": 2,
   "metadata": {},
   "outputs": [],
   "source": [
    "B=B_operator(10)\n",
    "initial_state=plus_state(10)\n",
    "\n",
    "def optimization_function(H,p,params):\n",
    "    ini_state=initial_state\n",
    "    for k in range(p):\n",
    "        ini_state=lasp.expm_multiply(1j*params[2*k]*H, ini_state)\n",
    "        ini_state=lasp.expm_multiply(-1j*params[2*k+1]*B,ini_state)\n",
    "    return ((sparse.spmatrix.getH(ini_state)).dot(H.dot(ini_state))).real, ini_state\n",
    "\n",
    "def angles(H,p):\n",
    "    def fun(x):\n",
    "#         we minimize f to find max for F \n",
    "        return optimization_function(H, p, params=x)[0]\n",
    "# starting point\n",
    "    params_0=[0.25*np.pi for i in range(2*p)]\n",
    "    params_min=[0 for i in range(2*p)]\n",
    "    params_max=[2*np.pi if i%2==0 else np.pi for i in range(2*p)]\n",
    "    # the bounds required by L-BFGS-B\n",
    "    bounds = [(low, high) for low, high in zip(params_min, params_max)]\n",
    "# use method L-BFGS-B because the problem is smooth and bounded\n",
    "    result = scipy.optimize.minimize(fun, params_0, method=\"L-BFGS-B\",bounds=bounds)\n",
    "    return [result.x[i] for i in range(2*p)]\n",
    "\n",
    "\n",
    "\n",
    "def optimal_p(cnf, N=10, e=0.75):\n",
    "    H=cnf_to_hamiltonian(cnf,N)\n",
    "    H_0=H.diagonal()\n",
    "#     find minimal eigenvalue and the superposition of ground states\n",
    "    min_energy=np.where(H_0 == H_0.min())[0]\n",
    "#   mixinf of all ground states\n",
    "    ground_state=np.zeros(2**N)\n",
    "    for i in min_energy:\n",
    "        ground_state[i]=1\n",
    "    result=0\n",
    "    p=0\n",
    "    while result<1-e:\n",
    "        p+=1\n",
    "        ini_state=initial_state\n",
    "        optimal_parameters=angles(H,p)\n",
    "        qaoa_state=optimization_function(H,p,optimal_parameters)[1]\n",
    "        for i in np.where(ground_state != 0)[0]:\n",
    "            result+=np.abs(qaoa_state[i])**2\n",
    "\n",
    "    return p\n",
    "\n",
    "# return overlap between ground space and QAOA state\n",
    "def overlap_p(p, cnf, N=10):\n",
    "    H=cnf_to_hamiltonian(cnf,N)\n",
    "    H_0=H.diagonal()\n",
    "#     find minimal eigenvalue and the superposition of ground states\n",
    "    min_energy=np.where(H_0 == H_0.min())[0]\n",
    "#   mixinf of all ground states\n",
    "    ground_state=np.zeros(2**N)\n",
    "    for i in min_energy:\n",
    "        ground_state[i]=1\n",
    "    \n",
    "    result=0\n",
    "    optimal_parameters=angles(H,p)\n",
    "    qaoa_state=optimization_function(H,p,optimal_parameters)[1]\n",
    "    for i in np.where(ground_state != 0)[0]:\n",
    "        result+=np.abs(qaoa_state[i])**2\n",
    "        \n",
    "    return result\n",
    "    "
   ]
  },
  {
   "cell_type": "code",
   "execution_count": null,
   "metadata": {},
   "outputs": [],
   "source": [
    "%%time\n",
    "overlap_p(p=2,cnf=cnf_random_generator(10,42))"
   ]
  },
  {
   "cell_type": "code",
   "execution_count": null,
   "metadata": {},
   "outputs": [],
   "source": [
    "%%time\n",
    "optimal_p(cnf_random_generator(10,100))"
   ]
  },
  {
   "cell_type": "code",
   "execution_count": null,
   "metadata": {},
   "outputs": [],
   "source": [
    "%%time\n",
    "with pymp.Parallel(6) as pp:\n",
    "    for m in pp.range(1, 100):\n",
    "        clauses=[]\n",
    "        iterations_p=[]\n",
    "        for i in range(100):\n",
    "            cnf=cnf_random_generator(10,m)\n",
    "            iterations_p.append(optimal_p(cnf,10))\n",
    "            clauses.append(m)\n",
    "        df=pd.DataFrame(data={'p':np.array(iterations_p).ravel(), \n",
    "                            'clauses': np.array(clauses).ravel(), \n",
    "                            })\n",
    "        df=df[['p','clauses']]\n",
    "        with open('3_SAT_qaoa_10_025.csv', 'a') as f:\n",
    "            df.to_csv(f, header=False)"
   ]
  },
  {
   "cell_type": "markdown",
   "metadata": {},
   "source": [
    "## fix p"
   ]
  },
  {
   "cell_type": "code",
   "execution_count": null,
   "metadata": {},
   "outputs": [],
   "source": [
    "%%time\n",
    "p=2\n",
    "with pymp.Parallel(6) as pp:\n",
    "    for m in pp.range(1, 100):\n",
    "        clauses=[]\n",
    "        overlap=[]\n",
    "        for i in range(500):\n",
    "            cnf=cnf_random_generator(10,m)\n",
    "            overlap.append(overlap_p(p,cnf,10))\n",
    "            clauses.append(m)\n",
    "        iterations_p=[p]*500\n",
    "        df=pd.DataFrame(data={'p':np.array(iterations_p).ravel(), \n",
    "                            'clauses': np.array(clauses).ravel(),\n",
    "                            'overlap': np.array(overlap).ravel(),\n",
    "                            })\n",
    "#         df=df[['p','clauses','overlap']]\n",
    "        with open('3_SAT_qaoa_10_fix_p.csv', 'a') as f:\n",
    "            df.to_csv(f, header=False)"
   ]
  },
  {
   "cell_type": "code",
   "execution_count": null,
   "metadata": {},
   "outputs": [],
   "source": []
  },
  {
   "cell_type": "code",
   "execution_count": null,
   "metadata": {},
   "outputs": [],
   "source": []
  },
  {
   "cell_type": "code",
   "execution_count": null,
   "metadata": {},
   "outputs": [],
   "source": []
  },
  {
   "cell_type": "code",
   "execution_count": null,
   "metadata": {},
   "outputs": [],
   "source": []
  },
  {
   "cell_type": "code",
   "execution_count": null,
   "metadata": {},
   "outputs": [],
   "source": []
  },
  {
   "cell_type": "code",
   "execution_count": null,
   "metadata": {},
   "outputs": [],
   "source": []
  },
  {
   "cell_type": "code",
   "execution_count": null,
   "metadata": {},
   "outputs": [],
   "source": []
  }
 ],
 "metadata": {
  "kernelspec": {
   "display_name": "Python 3",
   "language": "python",
   "name": "python3"
  },
  "language_info": {
   "codemirror_mode": {
    "name": "ipython",
    "version": 3
   },
   "file_extension": ".py",
   "mimetype": "text/x-python",
   "name": "python",
   "nbconvert_exporter": "python",
   "pygments_lexer": "ipython3",
   "version": "3.6.4"
  }
 },
 "nbformat": 4,
 "nbformat_minor": 2
}
