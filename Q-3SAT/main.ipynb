{
 "cells": [
  {
   "cell_type": "markdown",
   "metadata": {},
   "source": [
    "# Thermal states for 3-SAT"
   ]
  },
  {
   "cell_type": "code",
   "execution_count": 1,
   "metadata": {},
   "outputs": [],
   "source": [
    "import numpy as np\n",
    "# import qit\n",
    "import matplotlib\n",
    "import matplotlib.pyplot as plt\n",
    "from random import randint\n",
    "# import pycosat\n",
    "import random\n",
    "import scipy.linalg as la\n",
    "import pandas as pd\n",
    "import scipy.sparse as sparse\n",
    "import scipy.sparse.linalg as lasp\n",
    "from numba import jit\n",
    "# for parallel computations on CPU\n",
    "import pymp\n",
    "import qit\n",
    "import scipy\n",
    "\n",
    "from sat import *\n",
    "from qaoa import qaoa,get_params\n",
    "from numpy import array"
   ]
  },
  {
   "cell_type": "code",
   "execution_count": null,
   "metadata": {},
   "outputs": [],
   "source": [
    "%%time\n",
    "N=15\n",
    "beta=0.20\n",
    "with pymp.Parallel(6) as pp:\n",
    "    for m in pp.range(1, 20*N):\n",
    "        clauses=[]\n",
    "        overlap=[]\n",
    "        for i in range(100):\n",
    "            cnf=cnf_random_generator(N,m)\n",
    "            overlap.append(thermal_overlap(cnf,N,beta))\n",
    "            clauses.append(m)\n",
    "        bits=[N]*100\n",
    "        bet=[beta]*100\n",
    "        df=pd.DataFrame(data={'bits':np.array(bits).ravel(), \n",
    "                            'beta':np.array(bet).ravel(), \n",
    "                            'clauses': np.array(clauses).ravel(), \n",
    "                            'overlap': np.array(overlap).ravel()})\n",
    "        df=df[['bits','beta','clauses','overlap']]\n",
    "        with open('3_SAT_cooling_15_a.csv', 'a') as f:\n",
    "            df.to_csv(f, header=False)"
   ]
  },
  {
   "cell_type": "markdown",
   "metadata": {},
   "source": [
    "# QAOA"
   ]
  },
  {
   "cell_type": "code",
   "execution_count": 11,
   "metadata": {},
   "outputs": [],
   "source": [
    "# projection on ground_state\n",
    "def projection_ground_space(cnf, n_qubits, p):\n",
    "    result=0\n",
    "    qaoa_state=qaoa(cnf_to_hamiltonian(cnf,n_qubits),n_qubits, p)[1]\n",
    "    for i in np.where(ground_state(cnf, n_qubits) != 0)[0]:\n",
    "        result+=np.abs(qaoa_state[i])**2\n",
    "    return result"
   ]
  },
  {
   "cell_type": "code",
   "execution_count": 12,
   "metadata": {},
   "outputs": [],
   "source": [
    "cnf_1=[np.array([ 1,  2, -6]),\n",
    " np.array([ 1, -4, -5]),\n",
    " np.array([ 1,  3, -6]),\n",
    " np.array([-1, -2, -6]),\n",
    " np.array([ 4,  5, -6])]"
   ]
  },
  {
   "cell_type": "code",
   "execution_count": 13,
   "metadata": {},
   "outputs": [
    {
     "name": "stdout",
     "output_type": "stream",
     "text": [
      "[0.7404243161981697, 0.7775705695468255, 0.8187786578279733, 0.7188965854341821, 0.7814507895438692, 0.8340820742165719, 0.7083027607864854, 0.7807916428951017, 0.8392077522875999, 0.6988261041793634, 0.7955913112924764, 0.8261247194852741, 0.7040836153170253, 0.8178849837503516, 0.7980209751846071, 0.7123036523177729, 0.8308038426542279, 0.7721200722771089, 0.728850755760836, 0.8444957138872297, 0.7531678651687724, 0.7438252657893544, 0.8354543962559151, 0.7515014286641527, 0.7501788552600639, 0.8169326305992927, 0.767025182472883, 0.7574250008874013, 0.7912838120398488, 0.7915613646347153, 0.7476246906095821, 0.7676649029793906, 0.8167839505967803, 0.7436172772770399, 0.7570473310538989, 0.8373782655470808, 0.7259122225052086, 0.7692653469118514, 0.8303199569221997, 0.7170786728528618]\n",
      "0.8749999997103098\n"
     ]
    }
   ],
   "source": [
    "params_1=get_params(cnf_to_hamiltonian(cnf_1,6),6,20)\n",
    "overlap_1=projection_ground_space(cnf_1,6,20)\n",
    "print(params_1)\n",
    "print(overlap_1)"
   ]
  },
  {
   "cell_type": "code",
   "execution_count": null,
   "metadata": {},
   "outputs": [],
   "source": [
    "%%time\n",
    "N=10\n",
    "p=3\n",
    "with pymp.Parallel(6) as pp:\n",
    "    for m in pp.range(1, 15*N):\n",
    "        clauses=[]\n",
    "        overlap=[]\n",
    "        for i in range(100):\n",
    "            cnf=cnf_random_generator(N,m)\n",
    "            overlap.append(projection_ground_space(cnf=cnf,n_qubits=N,p=p))\n",
    "            clauses.append(m)\n",
    "        bits=[N]*100\n",
    "        bet=[p]*100\n",
    "        df=pd.DataFrame(data={'bits':np.array(bits).ravel(), \n",
    "                            'p':np.array(bet).ravel(), \n",
    "                            'clauses': np.array(clauses).ravel(), \n",
    "                            'overlap': np.array(overlap).ravel()})\n",
    "        df=df[['bits','p','clauses','overlap']]\n",
    "        with open('3_SAT_qaoa_10.csv', 'a') as f:\n",
    "            df.to_csv(f, header=False)"
   ]
  }
 ],
 "metadata": {
  "kernelspec": {
   "display_name": "Python 3",
   "language": "python",
   "name": "python3"
  },
  "language_info": {
   "codemirror_mode": {
    "name": "ipython",
    "version": 3
   },
   "file_extension": ".py",
   "mimetype": "text/x-python",
   "name": "python",
   "nbconvert_exporter": "python",
   "pygments_lexer": "ipython3",
   "version": "3.6.4"
  }
 },
 "nbformat": 4,
 "nbformat_minor": 2
}
